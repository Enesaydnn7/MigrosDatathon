{
 "cells": [
  {
   "cell_type": "code",
   "execution_count": 147,
   "metadata": {},
   "outputs": [],
   "source": [
    "import pandas as pd\n",
    "import numpy as np\n",
    "import seaborn as sns\n",
    "import matplotlib.pyplot as plt"
   ]
  },
  {
   "cell_type": "code",
   "execution_count": 148,
   "metadata": {},
   "outputs": [
    {
     "data": {
      "text/html": [
       "<div>\n",
       "<style scoped>\n",
       "    .dataframe tbody tr th:only-of-type {\n",
       "        vertical-align: middle;\n",
       "    }\n",
       "\n",
       "    .dataframe tbody tr th {\n",
       "        vertical-align: top;\n",
       "    }\n",
       "\n",
       "    .dataframe thead th {\n",
       "        text-align: right;\n",
       "    }\n",
       "</style>\n",
       "<table border=\"1\" class=\"dataframe\">\n",
       "  <thead>\n",
       "    <tr style=\"text-align: right;\">\n",
       "      <th></th>\n",
       "      <th>individualnumber</th>\n",
       "      <th>category_number</th>\n",
       "      <th>hakkedis_amt</th>\n",
       "      <th>odul_amt</th>\n",
       "      <th>response</th>\n",
       "      <th>total_money_spent</th>\n",
       "      <th>total_discount</th>\n",
       "      <th>sanal_percent</th>\n",
       "      <th>shop_count</th>\n",
       "      <th>months_since_last_shopping</th>\n",
       "      <th>...</th>\n",
       "      <th>level3_relevant_category_volume_per_day</th>\n",
       "      <th>level4_relevant_category_volume_per_day</th>\n",
       "      <th>level1_relevant_category_quantity_per_day</th>\n",
       "      <th>level2_relevant_category_quantity_per_day</th>\n",
       "      <th>level3_relevant_category_quantity_per_day</th>\n",
       "      <th>level4_relevant_category_quantity_per_day</th>\n",
       "      <th>total_money_spent_per_day</th>\n",
       "      <th>discount_per_day</th>\n",
       "      <th>odul/hakkedis</th>\n",
       "      <th>is_large_city</th>\n",
       "    </tr>\n",
       "  </thead>\n",
       "  <tbody>\n",
       "    <tr>\n",
       "      <th>0</th>\n",
       "      <td>94230288</td>\n",
       "      <td>9000</td>\n",
       "      <td>21.0</td>\n",
       "      <td>2.0</td>\n",
       "      <td>0</td>\n",
       "      <td>7118.94741</td>\n",
       "      <td>177.489978</td>\n",
       "      <td>0.015625</td>\n",
       "      <td>64.0</td>\n",
       "      <td>1.0</td>\n",
       "      <td>...</td>\n",
       "      <td>0.675378</td>\n",
       "      <td>0.675378</td>\n",
       "      <td>0.270924</td>\n",
       "      <td>0.131653</td>\n",
       "      <td>0.100840</td>\n",
       "      <td>0.100840</td>\n",
       "      <td>19.941029</td>\n",
       "      <td>0.497171</td>\n",
       "      <td>0.095238</td>\n",
       "      <td>True</td>\n",
       "    </tr>\n",
       "    <tr>\n",
       "      <th>1</th>\n",
       "      <td>4684087</td>\n",
       "      <td>9000</td>\n",
       "      <td>17.0</td>\n",
       "      <td>1.0</td>\n",
       "      <td>0</td>\n",
       "      <td>10192.64563</td>\n",
       "      <td>31907.260487</td>\n",
       "      <td>0.000000</td>\n",
       "      <td>30.0</td>\n",
       "      <td>1.0</td>\n",
       "      <td>...</td>\n",
       "      <td>0.342718</td>\n",
       "      <td>0.342718</td>\n",
       "      <td>0.113528</td>\n",
       "      <td>0.038835</td>\n",
       "      <td>0.038835</td>\n",
       "      <td>0.038835</td>\n",
       "      <td>32.985908</td>\n",
       "      <td>103.259743</td>\n",
       "      <td>0.058824</td>\n",
       "      <td>False</td>\n",
       "    </tr>\n",
       "    <tr>\n",
       "      <th>2</th>\n",
       "      <td>88026681</td>\n",
       "      <td>9030</td>\n",
       "      <td>22.0</td>\n",
       "      <td>2.0</td>\n",
       "      <td>0</td>\n",
       "      <td>11559.66676</td>\n",
       "      <td>231.976316</td>\n",
       "      <td>0.950000</td>\n",
       "      <td>40.0</td>\n",
       "      <td>1.0</td>\n",
       "      <td>...</td>\n",
       "      <td>0.396143</td>\n",
       "      <td>0.396143</td>\n",
       "      <td>0.040000</td>\n",
       "      <td>0.022857</td>\n",
       "      <td>0.022857</td>\n",
       "      <td>0.022857</td>\n",
       "      <td>33.027619</td>\n",
       "      <td>0.662789</td>\n",
       "      <td>0.090909</td>\n",
       "      <td>True</td>\n",
       "    </tr>\n",
       "    <tr>\n",
       "      <th>3</th>\n",
       "      <td>98127795</td>\n",
       "      <td>9001</td>\n",
       "      <td>38.0</td>\n",
       "      <td>3.0</td>\n",
       "      <td>0</td>\n",
       "      <td>461.77380</td>\n",
       "      <td>1.738800</td>\n",
       "      <td>0.000000</td>\n",
       "      <td>4.0</td>\n",
       "      <td>3.0</td>\n",
       "      <td>...</td>\n",
       "      <td>0.202128</td>\n",
       "      <td>0.202128</td>\n",
       "      <td>0.058511</td>\n",
       "      <td>0.010638</td>\n",
       "      <td>0.010638</td>\n",
       "      <td>0.010638</td>\n",
       "      <td>2.456244</td>\n",
       "      <td>0.009249</td>\n",
       "      <td>0.078947</td>\n",
       "      <td>False</td>\n",
       "    </tr>\n",
       "    <tr>\n",
       "      <th>4</th>\n",
       "      <td>101834804</td>\n",
       "      <td>9046</td>\n",
       "      <td>85.0</td>\n",
       "      <td>8.0</td>\n",
       "      <td>0</td>\n",
       "      <td>180.57000</td>\n",
       "      <td>19.349210</td>\n",
       "      <td>0.000000</td>\n",
       "      <td>6.0</td>\n",
       "      <td>1.0</td>\n",
       "      <td>...</td>\n",
       "      <td>0.000000</td>\n",
       "      <td>0.000000</td>\n",
       "      <td>0.000000</td>\n",
       "      <td>0.000000</td>\n",
       "      <td>0.000000</td>\n",
       "      <td>0.000000</td>\n",
       "      <td>1.920957</td>\n",
       "      <td>0.205843</td>\n",
       "      <td>0.094118</td>\n",
       "      <td>False</td>\n",
       "    </tr>\n",
       "    <tr>\n",
       "      <th>...</th>\n",
       "      <td>...</td>\n",
       "      <td>...</td>\n",
       "      <td>...</td>\n",
       "      <td>...</td>\n",
       "      <td>...</td>\n",
       "      <td>...</td>\n",
       "      <td>...</td>\n",
       "      <td>...</td>\n",
       "      <td>...</td>\n",
       "      <td>...</td>\n",
       "      <td>...</td>\n",
       "      <td>...</td>\n",
       "      <td>...</td>\n",
       "      <td>...</td>\n",
       "      <td>...</td>\n",
       "      <td>...</td>\n",
       "      <td>...</td>\n",
       "      <td>...</td>\n",
       "      <td>...</td>\n",
       "      <td>...</td>\n",
       "      <td>...</td>\n",
       "    </tr>\n",
       "    <tr>\n",
       "      <th>13043</th>\n",
       "      <td>97214433</td>\n",
       "      <td>9059</td>\n",
       "      <td>27.0</td>\n",
       "      <td>2.0</td>\n",
       "      <td>0</td>\n",
       "      <td>16893.83688</td>\n",
       "      <td>1598.015176</td>\n",
       "      <td>0.009881</td>\n",
       "      <td>506.0</td>\n",
       "      <td>1.0</td>\n",
       "      <td>...</td>\n",
       "      <td>0.232356</td>\n",
       "      <td>0.161534</td>\n",
       "      <td>0.060274</td>\n",
       "      <td>0.019178</td>\n",
       "      <td>0.019178</td>\n",
       "      <td>0.013699</td>\n",
       "      <td>46.284485</td>\n",
       "      <td>4.378124</td>\n",
       "      <td>0.074074</td>\n",
       "      <td>True</td>\n",
       "    </tr>\n",
       "    <tr>\n",
       "      <th>13044</th>\n",
       "      <td>96841665</td>\n",
       "      <td>9004</td>\n",
       "      <td>65.0</td>\n",
       "      <td>6.0</td>\n",
       "      <td>0</td>\n",
       "      <td>13089.84113</td>\n",
       "      <td>500.344604</td>\n",
       "      <td>0.000000</td>\n",
       "      <td>40.0</td>\n",
       "      <td>1.0</td>\n",
       "      <td>...</td>\n",
       "      <td>0.748507</td>\n",
       "      <td>0.748507</td>\n",
       "      <td>0.065672</td>\n",
       "      <td>0.014925</td>\n",
       "      <td>0.014925</td>\n",
       "      <td>0.014925</td>\n",
       "      <td>39.074153</td>\n",
       "      <td>1.493566</td>\n",
       "      <td>0.092308</td>\n",
       "      <td>True</td>\n",
       "    </tr>\n",
       "    <tr>\n",
       "      <th>13045</th>\n",
       "      <td>98445787</td>\n",
       "      <td>9044</td>\n",
       "      <td>33.0</td>\n",
       "      <td>3.0</td>\n",
       "      <td>0</td>\n",
       "      <td>2432.60788</td>\n",
       "      <td>244.758629</td>\n",
       "      <td>0.000000</td>\n",
       "      <td>39.0</td>\n",
       "      <td>1.0</td>\n",
       "      <td>...</td>\n",
       "      <td>0.077468</td>\n",
       "      <td>0.077468</td>\n",
       "      <td>0.030342</td>\n",
       "      <td>0.010734</td>\n",
       "      <td>0.002331</td>\n",
       "      <td>0.002331</td>\n",
       "      <td>6.814028</td>\n",
       "      <td>0.685598</td>\n",
       "      <td>0.090909</td>\n",
       "      <td>False</td>\n",
       "    </tr>\n",
       "    <tr>\n",
       "      <th>13046</th>\n",
       "      <td>13781030</td>\n",
       "      <td>9004</td>\n",
       "      <td>66.0</td>\n",
       "      <td>6.0</td>\n",
       "      <td>0</td>\n",
       "      <td>1242.70635</td>\n",
       "      <td>6.080452</td>\n",
       "      <td>0.090909</td>\n",
       "      <td>11.0</td>\n",
       "      <td>1.0</td>\n",
       "      <td>...</td>\n",
       "      <td>0.202663</td>\n",
       "      <td>0.202663</td>\n",
       "      <td>0.002959</td>\n",
       "      <td>0.002959</td>\n",
       "      <td>0.002959</td>\n",
       "      <td>0.002959</td>\n",
       "      <td>3.676646</td>\n",
       "      <td>0.017990</td>\n",
       "      <td>0.090909</td>\n",
       "      <td>False</td>\n",
       "    </tr>\n",
       "    <tr>\n",
       "      <th>13047</th>\n",
       "      <td>96703898</td>\n",
       "      <td>9017</td>\n",
       "      <td>15.0</td>\n",
       "      <td>1.0</td>\n",
       "      <td>0</td>\n",
       "      <td>37.10000</td>\n",
       "      <td>0.000000</td>\n",
       "      <td>0.000000</td>\n",
       "      <td>2.0</td>\n",
       "      <td>3.0</td>\n",
       "      <td>...</td>\n",
       "      <td>0.047210</td>\n",
       "      <td>0.047210</td>\n",
       "      <td>0.017167</td>\n",
       "      <td>0.012876</td>\n",
       "      <td>0.008584</td>\n",
       "      <td>0.008584</td>\n",
       "      <td>0.159227</td>\n",
       "      <td>0.000000</td>\n",
       "      <td>0.066667</td>\n",
       "      <td>True</td>\n",
       "    </tr>\n",
       "  </tbody>\n",
       "</table>\n",
       "<p>13042 rows × 34 columns</p>\n",
       "</div>"
      ],
      "text/plain": [
       "       individualnumber  category_number  hakkedis_amt  odul_amt  response  \\\n",
       "0              94230288             9000          21.0       2.0         0   \n",
       "1               4684087             9000          17.0       1.0         0   \n",
       "2              88026681             9030          22.0       2.0         0   \n",
       "3              98127795             9001          38.0       3.0         0   \n",
       "4             101834804             9046          85.0       8.0         0   \n",
       "...                 ...              ...           ...       ...       ...   \n",
       "13043          97214433             9059          27.0       2.0         0   \n",
       "13044          96841665             9004          65.0       6.0         0   \n",
       "13045          98445787             9044          33.0       3.0         0   \n",
       "13046          13781030             9004          66.0       6.0         0   \n",
       "13047          96703898             9017          15.0       1.0         0   \n",
       "\n",
       "       total_money_spent  total_discount  sanal_percent  shop_count  \\\n",
       "0             7118.94741      177.489978       0.015625        64.0   \n",
       "1            10192.64563    31907.260487       0.000000        30.0   \n",
       "2            11559.66676      231.976316       0.950000        40.0   \n",
       "3              461.77380        1.738800       0.000000         4.0   \n",
       "4              180.57000       19.349210       0.000000         6.0   \n",
       "...                  ...             ...            ...         ...   \n",
       "13043        16893.83688     1598.015176       0.009881       506.0   \n",
       "13044        13089.84113      500.344604       0.000000        40.0   \n",
       "13045         2432.60788      244.758629       0.000000        39.0   \n",
       "13046         1242.70635        6.080452       0.090909        11.0   \n",
       "13047           37.10000        0.000000       0.000000         2.0   \n",
       "\n",
       "       months_since_last_shopping  ...  \\\n",
       "0                             1.0  ...   \n",
       "1                             1.0  ...   \n",
       "2                             1.0  ...   \n",
       "3                             3.0  ...   \n",
       "4                             1.0  ...   \n",
       "...                           ...  ...   \n",
       "13043                         1.0  ...   \n",
       "13044                         1.0  ...   \n",
       "13045                         1.0  ...   \n",
       "13046                         1.0  ...   \n",
       "13047                         3.0  ...   \n",
       "\n",
       "       level3_relevant_category_volume_per_day  \\\n",
       "0                                     0.675378   \n",
       "1                                     0.342718   \n",
       "2                                     0.396143   \n",
       "3                                     0.202128   \n",
       "4                                     0.000000   \n",
       "...                                        ...   \n",
       "13043                                 0.232356   \n",
       "13044                                 0.748507   \n",
       "13045                                 0.077468   \n",
       "13046                                 0.202663   \n",
       "13047                                 0.047210   \n",
       "\n",
       "      level4_relevant_category_volume_per_day  \\\n",
       "0                                    0.675378   \n",
       "1                                    0.342718   \n",
       "2                                    0.396143   \n",
       "3                                    0.202128   \n",
       "4                                    0.000000   \n",
       "...                                       ...   \n",
       "13043                                0.161534   \n",
       "13044                                0.748507   \n",
       "13045                                0.077468   \n",
       "13046                                0.202663   \n",
       "13047                                0.047210   \n",
       "\n",
       "       level1_relevant_category_quantity_per_day  \\\n",
       "0                                       0.270924   \n",
       "1                                       0.113528   \n",
       "2                                       0.040000   \n",
       "3                                       0.058511   \n",
       "4                                       0.000000   \n",
       "...                                          ...   \n",
       "13043                                   0.060274   \n",
       "13044                                   0.065672   \n",
       "13045                                   0.030342   \n",
       "13046                                   0.002959   \n",
       "13047                                   0.017167   \n",
       "\n",
       "       level2_relevant_category_quantity_per_day  \\\n",
       "0                                       0.131653   \n",
       "1                                       0.038835   \n",
       "2                                       0.022857   \n",
       "3                                       0.010638   \n",
       "4                                       0.000000   \n",
       "...                                          ...   \n",
       "13043                                   0.019178   \n",
       "13044                                   0.014925   \n",
       "13045                                   0.010734   \n",
       "13046                                   0.002959   \n",
       "13047                                   0.012876   \n",
       "\n",
       "       level3_relevant_category_quantity_per_day  \\\n",
       "0                                       0.100840   \n",
       "1                                       0.038835   \n",
       "2                                       0.022857   \n",
       "3                                       0.010638   \n",
       "4                                       0.000000   \n",
       "...                                          ...   \n",
       "13043                                   0.019178   \n",
       "13044                                   0.014925   \n",
       "13045                                   0.002331   \n",
       "13046                                   0.002959   \n",
       "13047                                   0.008584   \n",
       "\n",
       "       level4_relevant_category_quantity_per_day  total_money_spent_per_day  \\\n",
       "0                                       0.100840                  19.941029   \n",
       "1                                       0.038835                  32.985908   \n",
       "2                                       0.022857                  33.027619   \n",
       "3                                       0.010638                   2.456244   \n",
       "4                                       0.000000                   1.920957   \n",
       "...                                          ...                        ...   \n",
       "13043                                   0.013699                  46.284485   \n",
       "13044                                   0.014925                  39.074153   \n",
       "13045                                   0.002331                   6.814028   \n",
       "13046                                   0.002959                   3.676646   \n",
       "13047                                   0.008584                   0.159227   \n",
       "\n",
       "       discount_per_day  odul/hakkedis  is_large_city  \n",
       "0              0.497171       0.095238           True  \n",
       "1            103.259743       0.058824          False  \n",
       "2              0.662789       0.090909           True  \n",
       "3              0.009249       0.078947          False  \n",
       "4              0.205843       0.094118          False  \n",
       "...                 ...            ...            ...  \n",
       "13043          4.378124       0.074074           True  \n",
       "13044          1.493566       0.092308           True  \n",
       "13045          0.685598       0.090909          False  \n",
       "13046          0.017990       0.090909          False  \n",
       "13047          0.000000       0.066667           True  \n",
       "\n",
       "[13042 rows x 34 columns]"
      ]
     },
     "execution_count": 148,
     "metadata": {},
     "output_type": "execute_result"
    }
   ],
   "source": [
    "data = pd.read_csv(\"train_cleaned_v1.csv\");\n",
    "data.head()\n",
    "data.isnull().sum()\n",
    "data.dropna()"
   ]
  },
  {
   "cell_type": "code",
   "execution_count": 149,
   "metadata": {},
   "outputs": [],
   "source": [
    "df_total_money = data[\"total_money_spent\"]\n",
    "df_total_discount = data[\"total_discount\"]\n"
   ]
  },
  {
   "cell_type": "code",
   "execution_count": 150,
   "metadata": {},
   "outputs": [
    {
     "data": {
      "text/plain": [
       "(13048,)"
      ]
     },
     "execution_count": 150,
     "metadata": {},
     "output_type": "execute_result"
    }
   ],
   "source": [
    "df_total_money.shape"
   ]
  },
  {
   "cell_type": "code",
   "execution_count": 151,
   "metadata": {},
   "outputs": [
    {
     "data": {
      "image/png": "[encoded data removed]",
      "text/plain": [
       "<Figure size 432x288 with 1 Axes>"
      ]
     },
     "metadata": {
      "needs_background": "light"
     },
     "output_type": "display_data"
    }
   ],
   "source": [
    "sns.boxplot(x=df_total_money);"
   ]
  },
  {
   "cell_type": "code",
   "execution_count": 128,
   "metadata": {},
   "outputs": [
    {
     "data": {
      "text/plain": [
       "411      157387.75601\n",
       "1039     609143.17880\n",
       "5562     168861.13331\n",
       "5765     183539.20176\n",
       "9878     240051.28909\n",
       "11573    271881.16143\n",
       "11885    290780.94804\n",
       "Name: total_money_spent, dtype: float64"
      ]
     },
     "execution_count": 128,
     "metadata": {},
     "output_type": "execute_result"
    }
   ],
   "source": [
    "upper_limit = 150000\n",
    "aykiri_tf =(df_total_money > upper_limit)\n",
    "df_total_money[aykiri_tf]"
   ]
  },
  {
   "cell_type": "code",
   "execution_count": 129,
   "metadata": {},
   "outputs": [
    {
     "data": {
      "text/plain": [
       "pandas.core.series.Series"
      ]
     },
     "execution_count": 129,
     "metadata": {},
     "output_type": "execute_result"
    }
   ],
   "source": [
    "type(df_total_money)"
   ]
  },
  {
   "cell_type": "code",
   "execution_count": 131,
   "metadata": {},
   "outputs": [
    {
     "data": {
      "text/plain": [
       "(13048, 1)"
      ]
     },
     "execution_count": 131,
     "metadata": {},
     "output_type": "execute_result"
    }
   ],
   "source": [
    "df_total_money = pd.DataFrame(df_total_money)\n",
    "df_total_money.shape\n"
   ]
  },
  {
   "cell_type": "code",
   "execution_count": 134,
   "metadata": {},
   "outputs": [],
   "source": [
    "clean_df_total_money = df_total_money[~(df_total_money > upper_limit).any(axis=1)]"
   ]
  },
  {
   "cell_type": "code",
   "execution_count": 136,
   "metadata": {},
   "outputs": [
    {
     "data": {
      "text/plain": [
       "(13041, 1)"
      ]
     },
     "execution_count": 136,
     "metadata": {},
     "output_type": "execute_result"
    }
   ],
   "source": [
    "clean_df_total_money.shape"
   ]
  },
  {
   "cell_type": "code",
   "execution_count": null,
   "metadata": {},
   "outputs": [],
   "source": []
  },
  {
   "cell_type": "code",
   "execution_count": 152,
   "metadata": {},
   "outputs": [
    {
     "data": {
      "image/png": "[encoded data removed]",
      "text/plain": [
       "<Figure size 432x288 with 1 Axes>"
      ]
     },
     "metadata": {
      "needs_background": "light"
     },
     "output_type": "display_data"
    }
   ],
   "source": [
    "sns.boxplot(x = df_total_discount);"
   ]
  },
  {
   "cell_type": "code",
   "execution_count": 153,
   "metadata": {},
   "outputs": [
    {
     "data": {
      "text/plain": [
       "1         31907.260487\n",
       "1035     120207.453395\n",
       "1469      33831.532256\n",
       "1978      66275.137283\n",
       "2594      31361.823565\n",
       "3027      31651.730255\n",
       "3129      37495.841010\n",
       "3445      47753.127732\n",
       "3858      31496.755169\n",
       "4378      84786.613070\n",
       "5765     114009.502535\n",
       "6359      38037.934397\n",
       "6466      60086.544895\n",
       "6615      37294.704057\n",
       "8043      44433.857679\n",
       "8898     128623.454883\n",
       "9582      56100.242991\n",
       "10294     58051.405352\n",
       "10998     74781.803707\n",
       "11040     58715.509570\n",
       "12414     38486.580818\n",
       "Name: total_discount, dtype: float64"
      ]
     },
     "execution_count": 153,
     "metadata": {},
     "output_type": "execute_result"
    }
   ],
   "source": [
    "upper_limit = 30000\n",
    "aykiri_tf =(df_total_discount > upper_limit)\n",
    "df_total_discount[aykiri_tf]"
   ]
  },
  {
   "cell_type": "code",
   "execution_count": 155,
   "metadata": {},
   "outputs": [
    {
     "data": {
      "text/plain": [
       "pandas.core.series.Series"
      ]
     },
     "execution_count": 155,
     "metadata": {},
     "output_type": "execute_result"
    }
   ],
   "source": [
    "type(df_total_discount)"
   ]
  },
  {
   "cell_type": "code",
   "execution_count": 159,
   "metadata": {},
   "outputs": [
    {
     "data": {
      "text/plain": [
       "30000"
      ]
     },
     "execution_count": 159,
     "metadata": {},
     "output_type": "execute_result"
    }
   ],
   "source": [
    "df_total_discount = pd.DataFrame(df_total_discount)\n",
    "df_total_discount.shape\n",
    "\n"
   ]
  },
  {
   "cell_type": "code",
   "execution_count": 160,
   "metadata": {},
   "outputs": [],
   "source": [
    "clean_df_total_discount = df_total_discount[~(df_total_discount > upper_limit).any(axis=1)]"
   ]
  },
  {
   "cell_type": "code",
   "execution_count": 161,
   "metadata": {},
   "outputs": [
    {
     "data": {
      "text/plain": [
       "(13027, 1)"
      ]
     },
     "execution_count": 161,
     "metadata": {},
     "output_type": "execute_result"
    }
   ],
   "source": [
    "clean_df_total_discount.shape"
   ]
  },
  {
   "cell_type": "code",
   "execution_count": null,
   "metadata": {},
   "outputs": [],
   "source": []
  }
 ],
 "metadata": {
  "kernelspec": {
   "display_name": "base",
   "language": "python",
   "name": "python3"
  },
  "language_info": {
   "codemirror_mode": {
    "name": "ipython",
    "version": 3
   },
   "file_extension": ".py",
   "mimetype": "text/x-python",
   "name": "python",
   "nbconvert_exporter": "python",
   "pygments_lexer": "ipython3",
   "version": "3.8.8"
  },
  "orig_nbformat": 4,
  "vscode": {
   "interpreter": {
    "hash": "e4cce46d6be9934fbd27f9ca0432556941ea5bdf741d4f4d64c6cd7f8dfa8fba"
   }
  }
 },
 "nbformat": 4,
 "nbformat_minor": 2
}
